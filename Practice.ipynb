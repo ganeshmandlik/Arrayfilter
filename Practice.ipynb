{
  "nbformat": 4,
  "nbformat_minor": 0,
  "metadata": {
    "colab": {
      "name": "Practice.ipynb",
      "provenance": [],
      "authorship_tag": "ABX9TyM9wZgBwUcQYzYNv2L3yTt+",
      "include_colab_link": true
    },
    "kernelspec": {
      "name": "python3",
      "display_name": "Python 3"
    },
    "language_info": {
      "name": "python"
    }
  },
  "cells": [
    {
      "cell_type": "markdown",
      "metadata": {
        "id": "view-in-github",
        "colab_type": "text"
      },
      "source": [
        "<a href=\"https://colab.research.google.com/github/ganeshmandlik/Arrayfilter/blob/master/Practice.ipynb\" target=\"_parent\"><img src=\"https://colab.research.google.com/assets/colab-badge.svg\" alt=\"Open In Colab\"/></a>"
      ]
    },
    {
      "cell_type": "code",
      "source": [
        "number = 10\n",
        "print(number)\n",
        "\n",
        "number = 20\n",
        "print(number)"
      ],
      "metadata": {
        "colab": {
          "base_uri": "https://localhost:8080/"
        },
        "id": "GTerpuGvANe7",
        "outputId": "6290fba5-3e41-4db7-efc9-dbd6ab01b6f3"
      },
      "execution_count": null,
      "outputs": [
        {
          "output_type": "stream",
          "name": "stdout",
          "text": [
            "10\n",
            "20\n"
          ]
        }
      ]
    },
    {
      "cell_type": "code",
      "execution_count": null,
      "metadata": {
        "colab": {
          "base_uri": "https://localhost:8080/"
        },
        "id": "yqbD6cth-o2S",
        "outputId": "b1fc52e0-3182-4c30-8af0-308a3b36d85a"
      },
      "outputs": [
        {
          "output_type": "stream",
          "name": "stdout",
          "text": [
            "30\n"
          ]
        }
      ],
      "source": [
        "number = 10+20\n",
        "print(number)"
      ]
    },
    {
      "cell_type": "code",
      "source": [
        "number = (10+\\\n",
        "          20+\\\n",
        "          30)\n",
        "print(number)"
      ],
      "metadata": {
        "colab": {
          "base_uri": "https://localhost:8080/"
        },
        "id": "5vd34a7WLeRE",
        "outputId": "1e167040-43c6-41b4-be43-6101bd40b248"
      },
      "execution_count": null,
      "outputs": [
        {
          "output_type": "stream",
          "name": "stdout",
          "text": [
            "60\n"
          ]
        }
      ]
    },
    {
      "cell_type": "code",
      "source": [
        "data3 = 70\n",
        "print('is ', data3 )"
      ],
      "metadata": {
        "colab": {
          "base_uri": "https://localhost:8080/"
        },
        "id": "75mp2gMGLntD",
        "outputId": "587982fb-4018-4cd6-f5eb-2854bd40b05a"
      },
      "execution_count": null,
      "outputs": [
        {
          "output_type": "stream",
          "name": "stdout",
          "text": [
            "is  70\n"
          ]
        }
      ]
    },
    {
      "cell_type": "code",
      "source": [
        "stringVariable = \"This is a string variable\"\n",
        "print(stringVariable)"
      ],
      "metadata": {
        "colab": {
          "base_uri": "https://localhost:8080/"
        },
        "id": "zoxBqa74Qki4",
        "outputId": "36c3b7a3-363b-47f4-b33d-0f35ea39aef7"
      },
      "execution_count": null,
      "outputs": [
        {
          "output_type": "stream",
          "name": "stdout",
          "text": [
            "This is a string variable\n"
          ]
        }
      ]
    },
    {
      "cell_type": "code",
      "source": [
        "print('First character in the stringVariable is : ', stringVariable[0])"
      ],
      "metadata": {
        "colab": {
          "base_uri": "https://localhost:8080/"
        },
        "id": "rEE10HdlQtMz",
        "outputId": "83346b6f-6435-47c2-909f-41dea73c7c26"
      },
      "execution_count": null,
      "outputs": [
        {
          "output_type": "stream",
          "name": "stdout",
          "text": [
            "First character in the stringVariable is :  T\n"
          ]
        }
      ]
    },
    {
      "cell_type": "code",
      "source": [
        "print(stringVariable[:7])"
      ],
      "metadata": {
        "colab": {
          "base_uri": "https://localhost:8080/"
        },
        "id": "0dngE7itQ-Sj",
        "outputId": "ccf04ee5-be40-4fe0-ee90-8367935b0585"
      },
      "execution_count": null,
      "outputs": [
        {
          "output_type": "stream",
          "name": "stdout",
          "text": [
            "This is\n"
          ]
        }
      ]
    },
    {
      "cell_type": "code",
      "source": [
        "print(number)"
      ],
      "metadata": {
        "colab": {
          "base_uri": "https://localhost:8080/"
        },
        "id": "OCVRAERDRUjr",
        "outputId": "9da1614f-e676-4f8a-df7c-2a50e44399cc"
      },
      "execution_count": null,
      "outputs": [
        {
          "output_type": "stream",
          "name": "stdout",
          "text": [
            "60\n"
          ]
        }
      ]
    },
    {
      "cell_type": "code",
      "source": [
        "print(stringVariable[0:9])"
      ],
      "metadata": {
        "colab": {
          "base_uri": "https://localhost:8080/"
        },
        "id": "qBdcGgKKRYjj",
        "outputId": "2c0b6a32-59e5-4558-ec25-a8f33cf2f16f"
      },
      "execution_count": null,
      "outputs": [
        {
          "output_type": "stream",
          "name": "stdout",
          "text": [
            "This is a\n"
          ]
        }
      ]
    },
    {
      "cell_type": "code",
      "source": [
        "print(stringVariable[:-1])"
      ],
      "metadata": {
        "colab": {
          "base_uri": "https://localhost:8080/"
        },
        "id": "ZBtCp781Rd0r",
        "outputId": "17451641-7503-4b9e-9ce3-3cbf0e726b13"
      },
      "execution_count": null,
      "outputs": [
        {
          "output_type": "stream",
          "name": "stdout",
          "text": [
            "This is a string variabl\n"
          ]
        }
      ]
    },
    {
      "cell_type": "code",
      "source": [
        "print(stringVariable[])"
      ],
      "metadata": {
        "colab": {
          "base_uri": "https://localhost:8080/",
          "height": 130
        },
        "id": "5ihP_EJ5Rj-0",
        "outputId": "0507f9de-f18a-4aaa-934f-34a18fc2362b"
      },
      "execution_count": null,
      "outputs": [
        {
          "output_type": "error",
          "ename": "SyntaxError",
          "evalue": "ignored",
          "traceback": [
            "\u001b[0;36m  File \u001b[0;32m\"<ipython-input-19-b2ac1bc89010>\"\u001b[0;36m, line \u001b[0;32m1\u001b[0m\n\u001b[0;31m    print(stringVariable[])\u001b[0m\n\u001b[0m                         ^\u001b[0m\n\u001b[0;31mSyntaxError\u001b[0m\u001b[0;31m:\u001b[0m invalid syntax\n"
          ]
        }
      ]
    },
    {
      "cell_type": "code",
      "source": [
        "print(stringVariable[0:])"
      ],
      "metadata": {
        "colab": {
          "base_uri": "https://localhost:8080/"
        },
        "id": "wuE_IR1TRplu",
        "outputId": "187524a3-a887-4132-8e8e-c0bca8bbb0eb"
      },
      "execution_count": null,
      "outputs": [
        {
          "output_type": "stream",
          "name": "stdout",
          "text": [
            "This is a string variable\n"
          ]
        }
      ]
    },
    {
      "cell_type": "code",
      "source": [
        "myList = [1,2.2, \"ThirdElement\", 12, 24, \"More values\"]\n",
        "print(myList)\n"
      ],
      "metadata": {
        "colab": {
          "base_uri": "https://localhost:8080/"
        },
        "id": "0MJlt6mYRtXE",
        "outputId": "d442d5f1-0a0d-42a5-a33d-d9da2148e338"
      },
      "execution_count": null,
      "outputs": [
        {
          "output_type": "stream",
          "name": "stdout",
          "text": [
            "[1, 2.2, 'ThirdElement', 12, 24, 'More values']\n"
          ]
        }
      ]
    },
    {
      "cell_type": "code",
      "source": [
        "myList.remove(2.2)"
      ],
      "metadata": {
        "id": "hcNT9SarSik8"
      },
      "execution_count": null,
      "outputs": []
    },
    {
      "cell_type": "code",
      "source": [
        "print(myList)"
      ],
      "metadata": {
        "colab": {
          "base_uri": "https://localhost:8080/"
        },
        "id": "THT4qcn6SsD0",
        "outputId": "b8a4e9b3-13f6-4d0e-9ddf-0b0288813678"
      },
      "execution_count": null,
      "outputs": [
        {
          "output_type": "stream",
          "name": "stdout",
          "text": [
            "[1, 'ThirdElement', 12, 24, 'More values']\n"
          ]
        }
      ]
    },
    {
      "cell_type": "code",
      "source": [
        "myList.pop(2)"
      ],
      "metadata": {
        "colab": {
          "base_uri": "https://localhost:8080/"
        },
        "id": "QKGr_W8jSv6U",
        "outputId": "2412abf6-f052-447b-d213-c2448b0aa113"
      },
      "execution_count": null,
      "outputs": [
        {
          "output_type": "execute_result",
          "data": {
            "text/plain": [
              "12"
            ]
          },
          "metadata": {},
          "execution_count": 24
        }
      ]
    },
    {
      "cell_type": "code",
      "source": [
        "print(myList)"
      ],
      "metadata": {
        "colab": {
          "base_uri": "https://localhost:8080/"
        },
        "id": "wlBEiVLyS25s",
        "outputId": "52e4fa48-5a32-4206-f840-dcc4dc28b5ad"
      },
      "execution_count": null,
      "outputs": [
        {
          "output_type": "stream",
          "name": "stdout",
          "text": [
            "[1, 'ThirdElement', 24, 'More values']\n"
          ]
        }
      ]
    },
    {
      "cell_type": "code",
      "source": [
        "myList."
      ],
      "metadata": {
        "id": "C_2jXIQZS56k"
      },
      "execution_count": null,
      "outputs": []
    }
  ]
}